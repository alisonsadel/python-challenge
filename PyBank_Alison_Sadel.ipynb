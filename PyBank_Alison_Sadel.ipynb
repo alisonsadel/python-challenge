{
 "cells": [
  {
   "cell_type": "markdown",
   "metadata": {},
   "source": [
    "# PyBank Challenge"
   ]
  },
  {
   "cell_type": "code",
   "execution_count": 57,
   "metadata": {},
   "outputs": [],
   "source": [
    "# Import dependencies\n",
    "import csv\n",
    "import os \n"
   ]
  },
  {
   "cell_type": "code",
   "execution_count": 58,
   "metadata": {},
   "outputs": [],
   "source": [
    "# Open and read the csv\n",
    "file_path = os.path.join(\"Resources\",\"budget_data.csv\")"
   ]
  },
  {
   "cell_type": "code",
   "execution_count": 59,
   "metadata": {},
   "outputs": [
    {
     "name": "stdout",
     "output_type": "stream",
     "text": [
      "Header: Date,Profit/Losses\n",
      "\n",
      "[['Jan-10', '867884'], ['Feb-10', '984655'], ['Mar-10', '322013'], ['Apr-10', '-69417'], ['May-10', '310503'], ['Jun-10', '522857'], ['Jul-10', '1033096'], ['Aug-10', '604885'], ['Sep-10', '-216386'], ['Oct-10', '477532'], ['Nov-10', '893810'], ['Dec-10', '-80353'], ['Jan-11', '779806'], ['Feb-11', '-335203'], ['Mar-11', '697845'], ['Apr-11', '793163'], ['May-11', '485070'], ['Jun-11', '584122'], ['Jul-11', '62729'], ['Aug-11', '668179'], ['Sep-11', '899906'], ['Oct-11', '834719'], ['Nov-11', '132003'], ['Dec-11', '309978'], ['Jan-12', '-755566'], ['Feb-12', '1170593'], ['Mar-12', '252788'], ['Apr-12', '1151518'], ['May-12', '817256'], ['Jun-12', '570757'], ['Jul-12', '506702'], ['Aug-12', '-1022534'], ['Sep-12', '475062'], ['Oct-12', '779976'], ['Nov-12', '144175'], ['Dec-12', '542494'], ['Jan-13', '359333'], ['Feb-13', '321469'], ['Mar-13', '67780'], ['Apr-13', '471435'], ['May-13', '565603'], ['Jun-13', '872480'], ['Jul-13', '789480'], ['Aug-13', '999942'], ['Sep-13', '-1196225'], ['Oct-13', '268997'], ['Nov-13', '-687986'], ['Dec-13', '1150461'], ['Jan-14', '682458'], ['Feb-14', '617856'], ['Mar-14', '824098'], ['Apr-14', '581943'], ['May-14', '132864'], ['Jun-14', '448062'], ['Jul-14', '689161'], ['Aug-14', '800701'], ['Sep-14', '1166643'], ['Oct-14', '947333'], ['Nov-14', '578668'], ['Dec-14', '988505'], ['Jan-15', '1139715'], ['Feb-15', '1029471'], ['Mar-15', '687533'], ['Apr-15', '-524626'], ['May-15', '158620'], ['Jun-15', '87795'], ['Jul-15', '423389'], ['Aug-15', '840723'], ['Sep-15', '568529'], ['Oct-15', '332067'], ['Nov-15', '989499'], ['Dec-15', '778237'], ['Jan-16', '650000'], ['Feb-16', '-1100387'], ['Mar-16', '-174946'], ['Apr-16', '757143'], ['May-16', '445709'], ['Jun-16', '712961'], ['Jul-16', '-1163797'], ['Aug-16', '569899'], ['Sep-16', '768450'], ['Oct-16', '102685'], ['Nov-16', '795914'], ['Dec-16', '60988'], ['Jan-17', '138230'], ['Feb-17', '671099']]\n"
     ]
    }
   ],
   "source": [
    "# Create a container that holds all the data \n",
    "budget_data = [] \n",
    "\n",
    "# Pass csvfile to csvreader to interpret the data\n",
    "with open(file_path, 'r') as csv_file:\n",
    "    csv_reader = csv.reader(csv_file, delimiter=\",\")\n",
    "    \n",
    "    # Read and skip header row\n",
    "    csv_header = next(csv_file)\n",
    "    \n",
    "    #alternative: next(csv_reader)\n",
    "    for row in csv_reader:\n",
    "        budget_data.append(row)\n",
    "\n",
    "print(f\"Header: {csv_header}\")\n",
    "print(budget_data)\n"
   ]
  },
  {
   "cell_type": "markdown",
   "metadata": {},
   "source": [
    "### Find Total Number Of Months Included In Dataset & Net Total Amount Of \"Profit/Losses\" "
   ]
  },
  {
   "cell_type": "code",
   "execution_count": 43,
   "metadata": {},
   "outputs": [
    {
     "name": "stdout",
     "output_type": "stream",
     "text": [
      "Total numbers of months included in the dataset: 86\n",
      "Net total amount of profits/losses over the entire period: 38,382,578\n"
     ]
    }
   ],
   "source": [
    "# Create variables\n",
    "months = 0\n",
    "total_profit = 0\n",
    "\n",
    "# Create for loop\n",
    "for row in budget_data:\n",
    "    # Find length of dataset to determine total months\n",
    "    months += 1\n",
    "    # Find total profits\n",
    "    total_profit += int(row[1])\n",
    "\n",
    "# Format total_profit \n",
    "total_profit_formatted = (\"{:,}\".format(total_profit))\n",
    "\n",
    "print(f'Total numbers of months included in the dataset: {months}') \n",
    "print(f'Net total amount of profits/losses over the entire period: {total_profit_formatted}') "
   ]
  },
  {
   "cell_type": "markdown",
   "metadata": {},
   "source": [
    "### Calculate Average Changes of 'Profits/Losses' "
   ]
  },
  {
   "cell_type": "code",
   "execution_count": 47,
   "metadata": {},
   "outputs": [
    {
     "name": "stdout",
     "output_type": "stream",
     "text": [
      "Average changes in revenue over the entire period: $-2315.12\n"
     ]
    }
   ],
   "source": [
    "# Create containers to hold monthly changes and corresponding dates \n",
    "changes = []\n",
    "dates = [] \n",
    "\n",
    "# Create for loop\n",
    "for i in range(0, len(budget_data)-1):\n",
    "    diff = int(budget_data[i+1][1]) - int(budget_data[i][1])\n",
    "    date = budget_data[i+1][0] \n",
    "    changes.append(diff)\n",
    "    dates.append(date)\n",
    "\n",
    "average_change = sum(changes) / len(changes) \n",
    "# print(changes)\n",
    "\n",
    "# Format average_change to display up to 2 decimal places\n",
    "average_change_formatted = round(average_change,2)\n",
    " \n",
    "\n",
    "print(f'Average changes in revenue over the entire period: ${clean_average_change}') "
   ]
  },
  {
   "cell_type": "markdown",
   "metadata": {},
   "source": [
    "### Calculate Greatest Increase In Profits (Amount & Date) "
   ]
  },
  {
   "cell_type": "code",
   "execution_count": 64,
   "metadata": {},
   "outputs": [
    {
     "name": "stdout",
     "output_type": "stream",
     "text": [
      "The greatest increase in profits occured in Feb-12 with a recorded profit of $1,926,159.\n"
     ]
    }
   ],
   "source": [
    "# Step 1: Calculate the greatest increase in profits on a single day\n",
    "max_profit = max(changes)\n",
    "max(changes)\n",
    "\n",
    "# Step 2: Create an index to determine the date of the occurence \n",
    "best_month_index = changes.index(max_profit)\n",
    "best_month = dates[best_month_index]\n",
    "\n",
    "#print(max_profit)\n",
    "#print(max_date)\n",
    "\n",
    "# Format max_profit\n",
    "max_profit_formatted = (\"{:,}\".format(max_profit))\n",
    "\n",
    "print(f'The greatest increase in profits occured in {best_month} with a recorded profit of ${max_profit_formatted}.')  "
   ]
  },
  {
   "cell_type": "markdown",
   "metadata": {},
   "source": [
    "### Calculate Greatest Decrease In Profits (Amount & Date) "
   ]
  },
  {
   "cell_type": "code",
   "execution_count": 65,
   "metadata": {},
   "outputs": [
    {
     "name": "stdout",
     "output_type": "stream",
     "text": [
      "The greatest decrease in profits occured in Sep-13 with a recorded loss of $-2,196,167.\n"
     ]
    }
   ],
   "source": [
    "# Calculate the greatest decrease in profits (i.e. losses) on a single day\n",
    "max_loss = min(changes)\n",
    "min(changes) \n",
    "\n",
    "# Step 2: Create an index to determine the date of the occurence \n",
    "worst_month_index = changes.index(max_loss)\n",
    "worst_month = dates[worst_month_index]\n",
    "\n",
    "#print(max_loss)\n",
    "#print(lowest_date)\n",
    "\n",
    "# Format lowest_profit\n",
    "max_loss_formatted = (\"{:,}\".format(max_loss))\n",
    "\n",
    "print(f'The greatest decrease in profits occured in {worst_month} with a recorded loss of ${max_loss_formatted}.')    "
   ]
  },
  {
   "cell_type": "markdown",
   "metadata": {},
   "source": [
    "### PyBank Analysis \n"
   ]
  },
  {
   "cell_type": "code",
   "execution_count": 66,
   "metadata": {},
   "outputs": [
    {
     "name": "stdout",
     "output_type": "stream",
     "text": [
      "Financial Analysis\n",
      "-------------------------------\n",
      "Total Months: 86\n",
      "Total: $38,382,578\n",
      "Average Change: $-2315.12\n",
      "Greatest Increase in Profits: Feb-12 $1,926,159\n",
      "Greatest Decrease in Profits: Sep-13 $-2,196,167\n"
     ]
    }
   ],
   "source": [
    "print(\"Financial Analysis\")\n",
    "print('-------------------------------') \n",
    "print(f'Total Months: {months}') \n",
    "print(f'Total: ${total_profit_formatted}') \n",
    "print(f'Average Change: ${average_change_formatted}')  \n",
    "print(f'Greatest Increase in Profits: {best_month} ${max_profit_formatted}') \n",
    "print(f'Greatest Decrease in Profits: {worst_month} ${max_loss_formatted}')\n"
   ]
  },
  {
   "cell_type": "code",
   "execution_count": 68,
   "metadata": {},
   "outputs": [],
   "source": [
    "# Export a text file with the results\n",
    "budget_file = os.path.join(\"Output\", \"budget_data_results.txt\")\n",
    "with open(budget_file, \"w\") as outfile:\n",
    "    outfile.write(\"Financial Analysis\\n\")\n",
    "    outfile.write(\"----------------------------\\n\")\n",
    "    outfile.write(f\"Total Months:  {months}\\n\")\n",
    "    outfile.write(f\"Total:  ${total_profit_formatted}\\n\")\n",
    "    outfile.write(f\"Average Change:  ${average_change_formatted}\\n\")\n",
    "    outfile.write(f\"Greatest Increase in Profits:  {best_month} (${max_profit_formatted})\\n\")\n",
    "    outfile.write(f\"Greatest Decrease in Losses:  {worst_month} (${max_loss_formatted})\\n\")\n"
   ]
  },
  {
   "cell_type": "code",
   "execution_count": null,
   "metadata": {},
   "outputs": [],
   "source": []
  },
  {
   "cell_type": "code",
   "execution_count": null,
   "metadata": {},
   "outputs": [],
   "source": []
  }
 ],
 "metadata": {
  "kernelspec": {
   "display_name": "Python 3",
   "language": "python",
   "name": "python3"
  },
  "language_info": {
   "codemirror_mode": {
    "name": "ipython",
    "version": 3
   },
   "file_extension": ".py",
   "mimetype": "text/x-python",
   "name": "python",
   "nbconvert_exporter": "python",
   "pygments_lexer": "ipython3",
   "version": "3.8.5"
  }
 },
 "nbformat": 4,
 "nbformat_minor": 4
}
